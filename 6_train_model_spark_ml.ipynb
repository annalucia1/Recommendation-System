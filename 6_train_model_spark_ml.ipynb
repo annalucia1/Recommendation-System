{
 "cells": [
  {
   "cell_type": "markdown",
   "metadata": {},
   "source": [
    "### Load data"
   ]
  },
  {
   "cell_type": "code",
   "execution_count": 1,
   "metadata": {},
   "outputs": [],
   "source": [
    "from pyspark.sql.types import *\n",
    "from pyspark.mllib.linalg import Vectors\n",
    "from pyspark.mllib.linalg import DenseVector\n",
    "from pyspark.ml.feature import VectorAssembler\n",
    "from pyspark.ml.feature import StringIndexer, VectorIndexer\n",
    "from pyspark.ml import Pipeline\n",
    "from pyspark.ml.classification import LogisticRegression\n",
    "from pyspark.ml.classification import DecisionTreeClassifier\n",
    "from pyspark.ml.classification import RandomForestClassifier\n",
    "from pyspark.ml.classification import GBTClassifier\n",
    "from pyspark.ml.tuning import CrossValidator, ParamGridBuilder\n",
    "from pyspark.ml.evaluation import BinaryClassificationEvaluator\n",
    "from pyspark.ml.evaluation import MulticlassClassificationEvaluator"
   ]
  },
  {
   "cell_type": "code",
   "execution_count": 2,
   "metadata": {},
   "outputs": [
    {
     "name": "stdout",
     "output_type": "stream",
     "text": [
      "+---------+-----+-------------+-------------+-------------+--------------+--------------+-------------+-------------+-------------+--------------+--------------+-------------+-------------+-------------+--------------+--------------+-----------+\n",
      "|      uid|label|freq_P_last_1|freq_P_last_3|freq_P_last_7|freq_P_last_14|freq_P_last_30|freq_D_last_1|freq_D_last_3|freq_D_last_7|freq_D_last_14|freq_D_last_30|freq_S_last_1|freq_S_last_3|freq_S_last_7|freq_S_last_14|freq_S_last_30|device_type|\n",
      "+---------+-----+-------------+-------------+-------------+--------------+--------------+-------------+-------------+-------------+--------------+--------------+-------------+-------------+-------------+--------------+--------------+-----------+\n",
      "|107308817|    1|            0|            0|            0|             0|             2|            0|            0|            0|             0|             0|            0|            0|            0|             0|             0|          2|\n",
      "| 11596711|    0|           13|           28|           47|            82|           129|            0|            0|            0|             0|             0|            0|            2|            3|            11|            21|          2|\n",
      "|126941437|    0|            0|            0|           19|            28|           364|            0|            0|            0|             0|             0|            0|            0|            0|             3|            24|          2|\n",
      "|132952490|    0|            0|            0|            0|           121|           263|            0|            0|            0|             0|            11|            0|            0|            0|             2|            10|          2|\n",
      "|166855134|    0|            8|            8|           90|           159|           231|            0|            0|            0|             0|             2|            2|            2|           13|            23|            32|          2|\n",
      "+---------+-----+-------------+-------------+-------------+--------------+--------------+-------------+-------------+-------------+--------------+--------------+-------------+-------------+-------------+--------------+--------------+-----------+\n",
      "only showing top 5 rows\n",
      "\n"
     ]
    }
   ],
   "source": [
    "df = spark.read.csv('../data/df_model_final.csv',header=True,inferSchema=True).cache()\n",
    "df.show(5)"
   ]
  },
  {
   "cell_type": "code",
   "execution_count": 3,
   "metadata": {},
   "outputs": [
    {
     "data": {
      "text/plain": [
       "DataFrame[uid: int, label: int, freq_P_last_1: int, freq_P_last_3: int, freq_P_last_7: int, freq_P_last_14: int, freq_P_last_30: int, freq_D_last_1: int, freq_D_last_3: int, freq_D_last_7: int, freq_D_last_14: int, freq_D_last_30: int, freq_S_last_1: int, freq_S_last_3: int, freq_S_last_7: int, freq_S_last_14: int, freq_S_last_30: int, device_type: int]"
      ]
     },
     "execution_count": 3,
     "metadata": {},
     "output_type": "execute_result"
    }
   ],
   "source": [
    "df"
   ]
  },
  {
   "cell_type": "markdown",
   "metadata": {},
   "source": [
    "### Prepare training data"
   ]
  },
  {
   "cell_type": "code",
   "execution_count": 4,
   "metadata": {},
   "outputs": [
    {
     "data": {
      "text/plain": [
       "['freq_P_last_1',\n",
       " 'freq_P_last_3',\n",
       " 'freq_P_last_7',\n",
       " 'freq_P_last_14',\n",
       " 'freq_P_last_30',\n",
       " 'freq_D_last_1',\n",
       " 'freq_D_last_3',\n",
       " 'freq_D_last_7',\n",
       " 'freq_D_last_14',\n",
       " 'freq_D_last_30',\n",
       " 'freq_S_last_1',\n",
       " 'freq_S_last_3',\n",
       " 'freq_S_last_7',\n",
       " 'freq_S_last_14',\n",
       " 'freq_S_last_30']"
      ]
     },
     "execution_count": 4,
     "metadata": {},
     "output_type": "execute_result"
    }
   ],
   "source": [
    "selected_features = df.columns\n",
    "selected_features.remove('uid')\n",
    "selected_features.remove('label')\n",
    "selected_features.remove('device_type')\n",
    "selected_features"
   ]
  },
  {
   "cell_type": "code",
   "execution_count": 5,
   "metadata": {},
   "outputs": [],
   "source": [
    "# training data\n",
    "assembler = VectorAssembler(\n",
    "    inputCols=selected_features,\n",
    "    outputCol=\"features\")\n",
    "data = assembler.transform(df)\n",
    "\n",
    "# train test split\n",
    "(train, test) = data.randomSplit([0.7, 0.3], seed=1)"
   ]
  },
  {
   "cell_type": "markdown",
   "metadata": {},
   "source": [
    "### Fit logistic regression"
   ]
  },
  {
   "cell_type": "code",
   "execution_count": 6,
   "metadata": {},
   "outputs": [],
   "source": [
    "ml = LogisticRegression(maxIter=3, regParam=0.01)\n",
    "model = ml.fit(train)"
   ]
  },
  {
   "cell_type": "markdown",
   "metadata": {},
   "source": [
    "### Predict and Evaluate performance"
   ]
  },
  {
   "cell_type": "code",
   "execution_count": 7,
   "metadata": {},
   "outputs": [
    {
     "name": "stdout",
     "output_type": "stream",
     "text": [
      "+--------------------+----------+-----+--------------------+\n",
      "|         probability|prediction|label|            features|\n",
      "+--------------------+----------+-----+--------------------+\n",
      "|[0.54302028484190...|       0.0|    0|(15,[3,4,13,14],[...|\n",
      "|[0.24885683056223...|       1.0|    1|     (15,[4],[15.0])|\n",
      "|[0.66384697943817...|       0.0|    0|(15,[1,2,3,4,9,14...|\n",
      "|[0.25816263730387...|       1.0|    1|     (15,[4],[60.0])|\n",
      "|[0.46490711604884...|       1.0|    0|(15,[1,2,3,4],[24...|\n",
      "+--------------------+----------+-----+--------------------+\n",
      "only showing top 5 rows\n",
      "\n",
      "+--------------------+----------+-----+--------------------+\n",
      "|         probability|prediction|label|            features|\n",
      "+--------------------+----------+-----+--------------------+\n",
      "|[0.98418119198472...|       0.0|    0|(15,[0,1,2,3,4,13...|\n",
      "|[0.52319370392201...|       0.0|    0|(15,[1,2,3,4],[18...|\n",
      "|[0.26010608171180...|       1.0|    1|(15,[4,9],[69.0,1...|\n",
      "|[0.72172919696099...|       0.0|    0|(15,[0,1,2,3,4,9,...|\n",
      "|[0.24641351323082...|       1.0|    1|      (15,[4],[3.0])|\n",
      "+--------------------+----------+-----+--------------------+\n",
      "only showing top 5 rows\n",
      "\n"
     ]
    }
   ],
   "source": [
    "#### predict and evaluate performance\n",
    "\n",
    "# Predict train data\n",
    "predictions_train = model.transform(train)\n",
    "\n",
    "# Select example rows to display.\n",
    "predictions_train.select(\"probability\",\"prediction\", \"label\", \"features\").show(5)\n",
    "res_train = predictions_train.select(\"probability\", \"label\").toPandas()\n",
    "\n",
    "\n",
    "# Predict test data\n",
    "predictions_test = model.transform(test)\n",
    "\n",
    "# Select example rows to display.\n",
    "predictions_test.select(\"probability\",\"prediction\", \"label\", \"features\").show(5)\n",
    "res_test = predictions_test.select(\"probability\", \"label\").toPandas()\n"
   ]
  },
  {
   "cell_type": "markdown",
   "metadata": {},
   "source": [
    "### Evaluate performance"
   ]
  },
  {
   "cell_type": "code",
   "execution_count": 8,
   "metadata": {},
   "outputs": [],
   "source": [
    "%matplotlib inline\n",
    "import matplotlib.pyplot as plt\n",
    "from sklearn.metrics import roc_curve, auc, roc_auc_score\n",
    "\n",
    "def plot_roc_curve(y_train, y_train_pred, y_test, y_test_pred):\n",
    "    roc_auc_train = roc_auc_score(y_train, y_train_pred)\n",
    "    fpr_train, tpr_train, _ = roc_curve(y_train, y_train_pred)\n",
    "\n",
    "    roc_auc_test = roc_auc_score(y_test, y_test_pred)\n",
    "    fpr_test, tpr_test, _ = roc_curve(y_test, y_test_pred)\n",
    "    plt.figure()\n",
    "    lw = 2\n",
    "    plt.plot(fpr_train, tpr_train, color='green',\n",
    "             lw=lw, label='ROC Train (AUC = %0.4f)' % roc_auc_train)\n",
    "    plt.plot(fpr_test, tpr_test, color='darkorange',\n",
    "             lw=lw, label='ROC Test (AUC = %0.4f)' % roc_auc_test)\n",
    "    plt.plot([0, 1], [0, 1], color='navy', lw=lw, linestyle='--')\n",
    "    plt.xlim([0.0, 1.0])\n",
    "    plt.ylim([0.0, 1.05])\n",
    "    plt.xlabel('False Positive Rate')\n",
    "    plt.ylabel('True Positive Rate')\n",
    "    plt.title('Receiver operating characteristic example')\n",
    "    plt.legend(loc=\"lower right\")\n",
    "    plt.show()\n",
    "    "
   ]
  },
  {
   "cell_type": "code",
   "execution_count": 9,
   "metadata": {},
   "outputs": [
    {
     "data": {
      "image/png": "[encoded data removed]",
      "text/plain": [
       "<matplotlib.figure.Figure at 0x10f414240>"
      ]
     },
     "metadata": {},
     "output_type": "display_data"
    }
   ],
   "source": [
    "y_train = res_train['label']\n",
    "y_train_pred = [v[1] for v in res_train['probability']]\n",
    "y_test = res_test['label']\n",
    "y_test_pred = [v[1] for v in res_test['probability']]\n",
    "\n",
    "plot_roc_curve(y_train, y_train_pred, y_test, y_test_pred)"
   ]
  },
  {
   "cell_type": "markdown",
   "metadata": {},
   "source": [
    "### Let's train random forest too!"
   ]
  },
  {
   "cell_type": "code",
   "execution_count": 10,
   "metadata": {},
   "outputs": [],
   "source": [
    "ml = RandomForestClassifier(labelCol=\"label\", featuresCol=\"features\"\n",
    "                            ,numTrees=50#50\n",
    "                            ,featureSubsetStrategy=\"auto\"\n",
    "                            ,impurity='gini'\n",
    "                            ,maxDepth=12#20\n",
    "                            ,minInstancesPerNode=10\n",
    "                            ,maxBins=16\n",
    "                            )\n",
    "model = ml.fit(train)"
   ]
  },
  {
   "cell_type": "code",
   "execution_count": 11,
   "metadata": {},
   "outputs": [
    {
     "name": "stdout",
     "output_type": "stream",
     "text": [
      "+--------------------+----------+-----+--------------------+\n",
      "|         probability|prediction|label|            features|\n",
      "+--------------------+----------+-----+--------------------+\n",
      "|[0.45146366115459...|       1.0|    0|(15,[3,4,13,14],[...|\n",
      "|[0.08349130710403...|       1.0|    1|     (15,[4],[15.0])|\n",
      "|[0.90651757727705...|       0.0|    0|(15,[1,2,3,4,9,14...|\n",
      "|[0.09293489860083...|       1.0|    1|     (15,[4],[60.0])|\n",
      "|[0.66299505362449...|       0.0|    0|(15,[1,2,3,4],[24...|\n",
      "+--------------------+----------+-----+--------------------+\n",
      "only showing top 5 rows\n",
      "\n",
      "+--------------------+----------+-----+--------------------+\n",
      "|         probability|prediction|label|            features|\n",
      "+--------------------+----------+-----+--------------------+\n",
      "|[0.97804040343120...|       0.0|    0|(15,[0,1,2,3,4,13...|\n",
      "|[0.68355670305692...|       0.0|    0|(15,[1,2,3,4],[18...|\n",
      "|[0.12597045249480...|       1.0|    1|(15,[4,9],[69.0,1...|\n",
      "|[0.98453758208839...|       0.0|    0|(15,[0,1,2,3,4,9,...|\n",
      "|[0.08867341717773...|       1.0|    1|      (15,[4],[3.0])|\n",
      "+--------------------+----------+-----+--------------------+\n",
      "only showing top 5 rows\n",
      "\n"
     ]
    }
   ],
   "source": [
    "#### predict and evaluate performance\n",
    "\n",
    "# Predict train data\n",
    "predictions_train = model.transform(train)\n",
    "\n",
    "# Select example rows to display.\n",
    "predictions_train.select(\"probability\",\"prediction\", \"label\", \"features\").show(5)\n",
    "res_train = predictions_train.select(\"probability\", \"label\").toPandas()\n",
    "\n",
    "\n",
    "# Predict test data\n",
    "predictions_test = model.transform(test)\n",
    "\n",
    "# Select example rows to display.\n",
    "predictions_test.select(\"probability\",\"prediction\", \"label\", \"features\").show(5)\n",
    "res_test = predictions_test.select(\"probability\", \"label\").toPandas()"
   ]
  },
  {
   "cell_type": "code",
   "execution_count": 12,
   "metadata": {},
   "outputs": [
    {
     "data": {
      "image/png": "[encoded data removed]",
      "text/plain": [
       "<matplotlib.figure.Figure at 0x113ec0a20>"
      ]
     },
     "metadata": {},
     "output_type": "display_data"
    }
   ],
   "source": [
    "y_train = res_train['label']\n",
    "y_train_pred = [v[1] for v in res_train['probability']]\n",
    "y_test = res_test['label']\n",
    "y_test_pred = [v[1] for v in res_test['probability']]\n",
    "\n",
    "plot_roc_curve(y_train, y_train_pred, y_test, y_test_pred)"
   ]
  },
  {
   "cell_type": "code",
   "execution_count": null,
   "metadata": {},
   "outputs": [],
   "source": []
  }
 ],
 "metadata": {
  "kernelspec": {
   "display_name": "Python 3",
   "language": "python",
   "name": "python3"
  },
  "language_info": {
   "codemirror_mode": {
    "name": "ipython",
    "version": 3
   },
   "file_extension": ".py",
   "mimetype": "text/x-python",
   "name": "python",
   "nbconvert_exporter": "python",
   "pygments_lexer": "ipython3",
   "version": "3.6.4"
  }
 },
 "nbformat": 4,
 "nbformat_minor": 2
}
